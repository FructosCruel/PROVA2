{
 "cells": [
  {
   "cell_type": "code",
   "execution_count": null,
   "id": "5c304533-f203-40fe-ae92-a9ad03348893",
   "metadata": {},
   "outputs": [],
   "source": [
    "# Para resolver o problema dado\n",
    "## Uma empresa de energia deseja obter a média de consumo diário de energia para implementar medidas de eficiêcia energética."
   ]
  },
  {
   "cell_type": "code",
   "execution_count": null,
   "id": "1605e44b-bed8-4296-9a8c-5dbc3299561c",
   "metadata": {},
   "outputs": [],
   "source": [
    "# Esses são valores que compõe a lista [50,45,55,60,48,52,47,49,53,51,50,46,54,61,49,53,48,50,52,47,56,50,55,60,48,52,47,49,53,51]"
   ]
  },
  {
   "cell_type": "code",
   "execution_count": 9,
   "id": "83c5d0d2-9c53-41c9-a750-31a7b2eebe86",
   "metadata": {},
   "outputs": [],
   "source": [
    "valores = [50,45,55,60,48,52,47,49,53,51,50,46,54,61,49,53,48,50,52,47,56,50,55,60,48,52,47,49,53,51]"
   ]
  },
  {
   "cell_type": "code",
   "execution_count": 11,
   "id": "0951f711-9fbd-49e5-943c-53785109cc5e",
   "metadata": {},
   "outputs": [],
   "source": [
    "\n",
    "def calcular_media(lista):\n",
    "    \n",
    "    soma = sum(lista)\n",
    "    \n",
    "    quantidade = len(lista)\n",
    "        \n",
    "    media = soma / quantidade\n",
    "    \n",
    "    return media\n",
    "\n",
    "resultado = calcular_media(valores)\n",
    "\n",
    "\n",
    "\n"
   ]
  },
  {
   "cell_type": "code",
   "execution_count": 13,
   "id": "14a6d102-36ae-4fe9-bb8a-f96c3c66c105",
   "metadata": {},
   "outputs": [
    {
     "name": "stdout",
     "output_type": "stream",
     "text": [
      "A consumo diário médio é: 51.36666666666667\n"
     ]
    }
   ],
   "source": [
    "print(f\"A consumo diário médio é: {resultado}\")\n"
   ]
  }
 ],
 "metadata": {
  "kernelspec": {
   "display_name": "Python 3 (ipykernel)",
   "language": "python",
   "name": "python3"
  },
  "language_info": {
   "codemirror_mode": {
    "name": "ipython",
    "version": 3
   },
   "file_extension": ".py",
   "mimetype": "text/x-python",
   "name": "python",
   "nbconvert_exporter": "python",
   "pygments_lexer": "ipython3",
   "version": "3.12.7"
  }
 },
 "nbformat": 4,
 "nbformat_minor": 5
}
